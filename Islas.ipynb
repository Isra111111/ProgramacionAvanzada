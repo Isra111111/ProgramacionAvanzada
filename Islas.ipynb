{
 "cells": [
  {
   "cell_type": "code",
   "execution_count": 2,
   "metadata": {},
   "outputs": [
    {
     "name": "stdout",
     "output_type": "stream",
     "text": [
      "5\n"
     ]
    }
   ],
   "source": [
    "def numIslas(M):\n",
    "    islas=0\n",
    "    filas=len(M)\n",
    "    columnas=len(M[0])\n",
    "    def lectura(M, x, y):\n",
    "        # Verificar los límites del índice y si el valor es 1 (parte de una isla)\n",
    "        if x < 0 or x >= len(M) or y < 0 or y >= len(M[0]) or M[x][y] == 0:\n",
    "            return\n",
    "        # Marcar la celda como visitada\n",
    "        M[x][y]=0\n",
    "        # Llamar recursivamente a lectura en todas las direcciones\n",
    "        lectura(M,x+1,y)\n",
    "        lectura(M,x-1,y)\n",
    "        lectura(M,x,y+1)\n",
    "        lectura(M,x,y-1)\n",
    "\n",
    "    for i in range(filas):\n",
    "        for j in range(columnas):\n",
    "            if M[i][j] == 1:\n",
    "                # Encuentra una isla nueva\n",
    "                lectura(M,i,j)\n",
    "                islas+=1\n",
    "\n",
    "    return islas\n",
    "\n",
    "M=[[0,1,1,0,0,1,1],\n",
    "   [0,1,1,0,0,1,1],\n",
    "   [1,0,1,0,0,0,0],\n",
    "   [0,0,1,1,0,1,1],\n",
    "   [1,0,1,1,0,1,1]]\n",
    "\n",
    "print(numIslas(M)) "
   ]
  },
  {
   "cell_type": "code",
   "execution_count": null,
   "metadata": {},
   "outputs": [],
   "source": []
  }
 ],
 "metadata": {
  "kernelspec": {
   "display_name": "Python 3",
   "language": "python",
   "name": "python3"
  },
  "language_info": {
   "codemirror_mode": {
    "name": "ipython",
    "version": 3
   },
   "file_extension": ".py",
   "mimetype": "text/x-python",
   "name": "python",
   "nbconvert_exporter": "python",
   "pygments_lexer": "ipython3",
   "version": "3.12.8"
  }
 },
 "nbformat": 4,
 "nbformat_minor": 2
}
